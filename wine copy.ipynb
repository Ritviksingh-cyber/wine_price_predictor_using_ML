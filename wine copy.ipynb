{
 "cells": [
  {
   "cell_type": "code",
   "execution_count": 1,
   "id": "55937b74",
   "metadata": {},
   "outputs": [],
   "source": [
    "import pandas as pd\n",
    "import numpy as np"
   ]
  },
  {
   "cell_type": "code",
   "execution_count": 2,
   "id": "5e745a51",
   "metadata": {},
   "outputs": [],
   "source": [
    "# wine_x_train.csv - the training set\n",
    "x_train = pd.read_csv(\"wine_x_train.csv\")  \n",
    "\n",
    "# prices list for the training set, prices correllates to the wine samples in wine_x_train.csv y row number\n",
    "y_train = pd.read_csv(\"wine_y_train.csv\")  "
   ]
  },
  {
   "cell_type": "code",
   "execution_count": 3,
   "id": "6e26f8d0",
   "metadata": {
    "scrolled": true
   },
   "outputs": [
    {
     "name": "stdout",
     "output_type": "stream",
     "text": [
      "Size of x_train : (65000, 13) \n",
      "Size of y_train :  (65000, 2)\n"
     ]
    }
   ],
   "source": [
    "print(\"Size of x_train :\",x_train.shape,\"\\nSize of y_train : \",y_train.shape)"
   ]
  },
  {
   "cell_type": "code",
   "execution_count": 4,
   "id": "d90edf9d",
   "metadata": {},
   "outputs": [
    {
     "data": {
      "text/html": [
       "<div>\n",
       "<style scoped>\n",
       "    .dataframe tbody tr th:only-of-type {\n",
       "        vertical-align: middle;\n",
       "    }\n",
       "\n",
       "    .dataframe tbody tr th {\n",
       "        vertical-align: top;\n",
       "    }\n",
       "\n",
       "    .dataframe thead th {\n",
       "        text-align: right;\n",
       "    }\n",
       "</style>\n",
       "<table border=\"1\" class=\"dataframe\">\n",
       "  <thead>\n",
       "    <tr style=\"text-align: right;\">\n",
       "      <th></th>\n",
       "      <th>id</th>\n",
       "      <th>price</th>\n",
       "    </tr>\n",
       "  </thead>\n",
       "  <tbody>\n",
       "    <tr>\n",
       "      <th>0</th>\n",
       "      <td>59970</td>\n",
       "      <td>26.0</td>\n",
       "    </tr>\n",
       "    <tr>\n",
       "      <th>1</th>\n",
       "      <td>107540</td>\n",
       "      <td>25.0</td>\n",
       "    </tr>\n",
       "    <tr>\n",
       "      <th>2</th>\n",
       "      <td>45945</td>\n",
       "      <td>34.0</td>\n",
       "    </tr>\n",
       "    <tr>\n",
       "      <th>3</th>\n",
       "      <td>49511</td>\n",
       "      <td>45.0</td>\n",
       "    </tr>\n",
       "    <tr>\n",
       "      <th>4</th>\n",
       "      <td>12978</td>\n",
       "      <td>36.0</td>\n",
       "    </tr>\n",
       "  </tbody>\n",
       "</table>\n",
       "</div>"
      ],
      "text/plain": [
       "       id  price\n",
       "0   59970   26.0\n",
       "1  107540   25.0\n",
       "2   45945   34.0\n",
       "3   49511   45.0\n",
       "4   12978   36.0"
      ]
     },
     "execution_count": 4,
     "metadata": {},
     "output_type": "execute_result"
    }
   ],
   "source": [
    "y_train.head()"
   ]
  },
  {
   "cell_type": "code",
   "execution_count": 5,
   "id": "40e07d8d",
   "metadata": {},
   "outputs": [
    {
     "data": {
      "text/html": [
       "<div>\n",
       "<style scoped>\n",
       "    .dataframe tbody tr th:only-of-type {\n",
       "        vertical-align: middle;\n",
       "    }\n",
       "\n",
       "    .dataframe tbody tr th {\n",
       "        vertical-align: top;\n",
       "    }\n",
       "\n",
       "    .dataframe thead th {\n",
       "        text-align: right;\n",
       "    }\n",
       "</style>\n",
       "<table border=\"1\" class=\"dataframe\">\n",
       "  <thead>\n",
       "    <tr style=\"text-align: right;\">\n",
       "      <th></th>\n",
       "      <th>id</th>\n",
       "      <th>country</th>\n",
       "      <th>description</th>\n",
       "      <th>designation</th>\n",
       "      <th>points</th>\n",
       "      <th>province</th>\n",
       "      <th>region_1</th>\n",
       "      <th>region_2</th>\n",
       "      <th>taster_name</th>\n",
       "      <th>taster_twitter_handle</th>\n",
       "      <th>title</th>\n",
       "      <th>variety</th>\n",
       "      <th>winery</th>\n",
       "    </tr>\n",
       "  </thead>\n",
       "  <tbody>\n",
       "    <tr>\n",
       "      <th>0</th>\n",
       "      <td>59970</td>\n",
       "      <td>Italy</td>\n",
       "      <td>Violet, iris, red berry and spice scents take ...</td>\n",
       "      <td>NaN</td>\n",
       "      <td>90</td>\n",
       "      <td>Tuscany</td>\n",
       "      <td>Chianti Classico</td>\n",
       "      <td>NaN</td>\n",
       "      <td>Kerin O’Keefe</td>\n",
       "      <td>@kerinokeefe</td>\n",
       "      <td>Volpaia 2011  Chianti Classico</td>\n",
       "      <td>Red Blend</td>\n",
       "      <td>Volpaia</td>\n",
       "    </tr>\n",
       "    <tr>\n",
       "      <th>1</th>\n",
       "      <td>107540</td>\n",
       "      <td>France</td>\n",
       "      <td>While there is a youthful stalky element to th...</td>\n",
       "      <td>Tradition</td>\n",
       "      <td>88</td>\n",
       "      <td>Loire Valley</td>\n",
       "      <td>Menetou-Salon</td>\n",
       "      <td>NaN</td>\n",
       "      <td>Roger Voss</td>\n",
       "      <td>@vossroger</td>\n",
       "      <td>Isabelle et Pierre Clément 2015 Tradition  (Me...</td>\n",
       "      <td>Pinot Noir</td>\n",
       "      <td>Isabelle et Pierre Clément</td>\n",
       "    </tr>\n",
       "    <tr>\n",
       "      <th>2</th>\n",
       "      <td>45945</td>\n",
       "      <td>Germany</td>\n",
       "      <td>There are edges of of smoke and violet on this...</td>\n",
       "      <td>Hochheimer Kirchenstück Spätlese Trocken</td>\n",
       "      <td>90</td>\n",
       "      <td>Rheingau</td>\n",
       "      <td>NaN</td>\n",
       "      <td>NaN</td>\n",
       "      <td>Anna Lee C. Iijima</td>\n",
       "      <td>NaN</td>\n",
       "      <td>Domdechant Werner 2010 Hochheimer Kirchenstück...</td>\n",
       "      <td>Riesling</td>\n",
       "      <td>Domdechant Werner</td>\n",
       "    </tr>\n",
       "    <tr>\n",
       "      <th>3</th>\n",
       "      <td>49511</td>\n",
       "      <td>Israel</td>\n",
       "      <td>A bouquet of blackberry and juniper sets the s...</td>\n",
       "      <td>Secret Reserve</td>\n",
       "      <td>91</td>\n",
       "      <td>Judean Hills</td>\n",
       "      <td>NaN</td>\n",
       "      <td>NaN</td>\n",
       "      <td>Mike DeSimone</td>\n",
       "      <td>@worldwineguys</td>\n",
       "      <td>Shiloh Winery 2013 Secret Reserve Cabernet Sau...</td>\n",
       "      <td>Cabernet Sauvignon</td>\n",
       "      <td>Shiloh Winery</td>\n",
       "    </tr>\n",
       "    <tr>\n",
       "      <th>4</th>\n",
       "      <td>12978</td>\n",
       "      <td>US</td>\n",
       "      <td>This has earthy aromas and sun-dried tomato fl...</td>\n",
       "      <td>Pauli Ranch</td>\n",
       "      <td>84</td>\n",
       "      <td>California</td>\n",
       "      <td>Mendocino County</td>\n",
       "      <td>NaN</td>\n",
       "      <td>Jim Gordon</td>\n",
       "      <td>@gordone_cellars</td>\n",
       "      <td>Muscardini 2010 Pauli Ranch Sangiovese (Mendoc...</td>\n",
       "      <td>Sangiovese</td>\n",
       "      <td>Muscardini</td>\n",
       "    </tr>\n",
       "  </tbody>\n",
       "</table>\n",
       "</div>"
      ],
      "text/plain": [
       "       id  country                                        description  \\\n",
       "0   59970    Italy  Violet, iris, red berry and spice scents take ...   \n",
       "1  107540   France  While there is a youthful stalky element to th...   \n",
       "2   45945  Germany  There are edges of of smoke and violet on this...   \n",
       "3   49511   Israel  A bouquet of blackberry and juniper sets the s...   \n",
       "4   12978       US  This has earthy aromas and sun-dried tomato fl...   \n",
       "\n",
       "                                designation  points      province  \\\n",
       "0                                       NaN      90       Tuscany   \n",
       "1                                 Tradition      88  Loire Valley   \n",
       "2  Hochheimer Kirchenstück Spätlese Trocken      90      Rheingau   \n",
       "3                            Secret Reserve      91  Judean Hills   \n",
       "4                               Pauli Ranch      84    California   \n",
       "\n",
       "           region_1 region_2         taster_name taster_twitter_handle  \\\n",
       "0  Chianti Classico      NaN       Kerin O’Keefe          @kerinokeefe   \n",
       "1     Menetou-Salon      NaN          Roger Voss            @vossroger   \n",
       "2               NaN      NaN  Anna Lee C. Iijima                   NaN   \n",
       "3               NaN      NaN       Mike DeSimone        @worldwineguys   \n",
       "4  Mendocino County      NaN          Jim Gordon      @gordone_cellars   \n",
       "\n",
       "                                               title             variety  \\\n",
       "0                     Volpaia 2011  Chianti Classico           Red Blend   \n",
       "1  Isabelle et Pierre Clément 2015 Tradition  (Me...          Pinot Noir   \n",
       "2  Domdechant Werner 2010 Hochheimer Kirchenstück...            Riesling   \n",
       "3  Shiloh Winery 2013 Secret Reserve Cabernet Sau...  Cabernet Sauvignon   \n",
       "4  Muscardini 2010 Pauli Ranch Sangiovese (Mendoc...          Sangiovese   \n",
       "\n",
       "                       winery  \n",
       "0                     Volpaia  \n",
       "1  Isabelle et Pierre Clément  \n",
       "2           Domdechant Werner  \n",
       "3               Shiloh Winery  \n",
       "4                  Muscardini  "
      ]
     },
     "execution_count": 5,
     "metadata": {},
     "output_type": "execute_result"
    }
   ],
   "source": [
    "x_train.head()"
   ]
  },
  {
   "cell_type": "code",
   "execution_count": 6,
   "id": "3663d911",
   "metadata": {},
   "outputs": [],
   "source": [
    "x_train = x_train.merge(y_train, on = 'id')"
   ]
  },
  {
   "cell_type": "code",
   "execution_count": 7,
   "id": "3c0e6bc4",
   "metadata": {},
   "outputs": [
    {
     "data": {
      "text/html": [
       "<div>\n",
       "<style scoped>\n",
       "    .dataframe tbody tr th:only-of-type {\n",
       "        vertical-align: middle;\n",
       "    }\n",
       "\n",
       "    .dataframe tbody tr th {\n",
       "        vertical-align: top;\n",
       "    }\n",
       "\n",
       "    .dataframe thead th {\n",
       "        text-align: right;\n",
       "    }\n",
       "</style>\n",
       "<table border=\"1\" class=\"dataframe\">\n",
       "  <thead>\n",
       "    <tr style=\"text-align: right;\">\n",
       "      <th></th>\n",
       "      <th>id</th>\n",
       "      <th>country</th>\n",
       "      <th>description</th>\n",
       "      <th>designation</th>\n",
       "      <th>points</th>\n",
       "      <th>province</th>\n",
       "      <th>region_1</th>\n",
       "      <th>region_2</th>\n",
       "      <th>taster_name</th>\n",
       "      <th>taster_twitter_handle</th>\n",
       "      <th>title</th>\n",
       "      <th>variety</th>\n",
       "      <th>winery</th>\n",
       "      <th>price</th>\n",
       "    </tr>\n",
       "  </thead>\n",
       "  <tbody>\n",
       "    <tr>\n",
       "      <th>0</th>\n",
       "      <td>59970</td>\n",
       "      <td>Italy</td>\n",
       "      <td>Violet, iris, red berry and spice scents take ...</td>\n",
       "      <td>NaN</td>\n",
       "      <td>90</td>\n",
       "      <td>Tuscany</td>\n",
       "      <td>Chianti Classico</td>\n",
       "      <td>NaN</td>\n",
       "      <td>Kerin O’Keefe</td>\n",
       "      <td>@kerinokeefe</td>\n",
       "      <td>Volpaia 2011  Chianti Classico</td>\n",
       "      <td>Red Blend</td>\n",
       "      <td>Volpaia</td>\n",
       "      <td>26.0</td>\n",
       "    </tr>\n",
       "    <tr>\n",
       "      <th>1</th>\n",
       "      <td>107540</td>\n",
       "      <td>France</td>\n",
       "      <td>While there is a youthful stalky element to th...</td>\n",
       "      <td>Tradition</td>\n",
       "      <td>88</td>\n",
       "      <td>Loire Valley</td>\n",
       "      <td>Menetou-Salon</td>\n",
       "      <td>NaN</td>\n",
       "      <td>Roger Voss</td>\n",
       "      <td>@vossroger</td>\n",
       "      <td>Isabelle et Pierre Clément 2015 Tradition  (Me...</td>\n",
       "      <td>Pinot Noir</td>\n",
       "      <td>Isabelle et Pierre Clément</td>\n",
       "      <td>25.0</td>\n",
       "    </tr>\n",
       "    <tr>\n",
       "      <th>2</th>\n",
       "      <td>45945</td>\n",
       "      <td>Germany</td>\n",
       "      <td>There are edges of of smoke and violet on this...</td>\n",
       "      <td>Hochheimer Kirchenstück Spätlese Trocken</td>\n",
       "      <td>90</td>\n",
       "      <td>Rheingau</td>\n",
       "      <td>NaN</td>\n",
       "      <td>NaN</td>\n",
       "      <td>Anna Lee C. Iijima</td>\n",
       "      <td>NaN</td>\n",
       "      <td>Domdechant Werner 2010 Hochheimer Kirchenstück...</td>\n",
       "      <td>Riesling</td>\n",
       "      <td>Domdechant Werner</td>\n",
       "      <td>34.0</td>\n",
       "    </tr>\n",
       "    <tr>\n",
       "      <th>3</th>\n",
       "      <td>49511</td>\n",
       "      <td>Israel</td>\n",
       "      <td>A bouquet of blackberry and juniper sets the s...</td>\n",
       "      <td>Secret Reserve</td>\n",
       "      <td>91</td>\n",
       "      <td>Judean Hills</td>\n",
       "      <td>NaN</td>\n",
       "      <td>NaN</td>\n",
       "      <td>Mike DeSimone</td>\n",
       "      <td>@worldwineguys</td>\n",
       "      <td>Shiloh Winery 2013 Secret Reserve Cabernet Sau...</td>\n",
       "      <td>Cabernet Sauvignon</td>\n",
       "      <td>Shiloh Winery</td>\n",
       "      <td>45.0</td>\n",
       "    </tr>\n",
       "    <tr>\n",
       "      <th>4</th>\n",
       "      <td>12978</td>\n",
       "      <td>US</td>\n",
       "      <td>This has earthy aromas and sun-dried tomato fl...</td>\n",
       "      <td>Pauli Ranch</td>\n",
       "      <td>84</td>\n",
       "      <td>California</td>\n",
       "      <td>Mendocino County</td>\n",
       "      <td>NaN</td>\n",
       "      <td>Jim Gordon</td>\n",
       "      <td>@gordone_cellars</td>\n",
       "      <td>Muscardini 2010 Pauli Ranch Sangiovese (Mendoc...</td>\n",
       "      <td>Sangiovese</td>\n",
       "      <td>Muscardini</td>\n",
       "      <td>36.0</td>\n",
       "    </tr>\n",
       "  </tbody>\n",
       "</table>\n",
       "</div>"
      ],
      "text/plain": [
       "       id  country                                        description  \\\n",
       "0   59970    Italy  Violet, iris, red berry and spice scents take ...   \n",
       "1  107540   France  While there is a youthful stalky element to th...   \n",
       "2   45945  Germany  There are edges of of smoke and violet on this...   \n",
       "3   49511   Israel  A bouquet of blackberry and juniper sets the s...   \n",
       "4   12978       US  This has earthy aromas and sun-dried tomato fl...   \n",
       "\n",
       "                                designation  points      province  \\\n",
       "0                                       NaN      90       Tuscany   \n",
       "1                                 Tradition      88  Loire Valley   \n",
       "2  Hochheimer Kirchenstück Spätlese Trocken      90      Rheingau   \n",
       "3                            Secret Reserve      91  Judean Hills   \n",
       "4                               Pauli Ranch      84    California   \n",
       "\n",
       "           region_1 region_2         taster_name taster_twitter_handle  \\\n",
       "0  Chianti Classico      NaN       Kerin O’Keefe          @kerinokeefe   \n",
       "1     Menetou-Salon      NaN          Roger Voss            @vossroger   \n",
       "2               NaN      NaN  Anna Lee C. Iijima                   NaN   \n",
       "3               NaN      NaN       Mike DeSimone        @worldwineguys   \n",
       "4  Mendocino County      NaN          Jim Gordon      @gordone_cellars   \n",
       "\n",
       "                                               title             variety  \\\n",
       "0                     Volpaia 2011  Chianti Classico           Red Blend   \n",
       "1  Isabelle et Pierre Clément 2015 Tradition  (Me...          Pinot Noir   \n",
       "2  Domdechant Werner 2010 Hochheimer Kirchenstück...            Riesling   \n",
       "3  Shiloh Winery 2013 Secret Reserve Cabernet Sau...  Cabernet Sauvignon   \n",
       "4  Muscardini 2010 Pauli Ranch Sangiovese (Mendoc...          Sangiovese   \n",
       "\n",
       "                       winery  price  \n",
       "0                     Volpaia   26.0  \n",
       "1  Isabelle et Pierre Clément   25.0  \n",
       "2           Domdechant Werner   34.0  \n",
       "3               Shiloh Winery   45.0  \n",
       "4                  Muscardini   36.0  "
      ]
     },
     "execution_count": 7,
     "metadata": {},
     "output_type": "execute_result"
    }
   ],
   "source": [
    "x_train.head()"
   ]
  },
  {
   "cell_type": "code",
   "execution_count": 8,
   "id": "2d16eb51",
   "metadata": {},
   "outputs": [
    {
     "data": {
      "text/plain": [
       "(65000, 14)"
      ]
     },
     "execution_count": 8,
     "metadata": {},
     "output_type": "execute_result"
    }
   ],
   "source": [
    "x_train.shape"
   ]
  },
  {
   "cell_type": "markdown",
   "id": "ce8a5207",
   "metadata": {},
   "source": [
    "## Cleaning Data"
   ]
  },
  {
   "cell_type": "code",
   "execution_count": 9,
   "id": "8a1d9ac4",
   "metadata": {},
   "outputs": [],
   "source": [
    "train = x_train[['winery','variety','country','province','price','points']]"
   ]
  },
  {
   "cell_type": "code",
   "execution_count": 10,
   "id": "9b7c3c22",
   "metadata": {},
   "outputs": [
    {
     "name": "stdout",
     "output_type": "stream",
     "text": [
      "<class 'pandas.core.frame.DataFrame'>\n",
      "Int64Index: 65000 entries, 0 to 64999\n",
      "Data columns (total 6 columns):\n",
      " #   Column    Non-Null Count  Dtype  \n",
      "---  ------    --------------  -----  \n",
      " 0   winery    65000 non-null  object \n",
      " 1   variety   65000 non-null  object \n",
      " 2   country   64965 non-null  object \n",
      " 3   province  64965 non-null  object \n",
      " 4   price     65000 non-null  float64\n",
      " 5   points    65000 non-null  int64  \n",
      "dtypes: float64(1), int64(1), object(4)\n",
      "memory usage: 3.5+ MB\n"
     ]
    }
   ],
   "source": [
    "train.info()"
   ]
  },
  {
   "cell_type": "code",
   "execution_count": 11,
   "id": "dc645b3a",
   "metadata": {},
   "outputs": [
    {
     "data": {
      "text/plain": [
       "array([ 90,  88,  91,  84,  85,  86,  89,  87,  83,  82,  92,  80,  93,\n",
       "        94,  81,  96,  95,  97,  99, 100,  98], dtype=int64)"
      ]
     },
     "execution_count": 11,
     "metadata": {},
     "output_type": "execute_result"
    }
   ],
   "source": [
    "train['points'].unique()"
   ]
  },
  {
   "cell_type": "code",
   "execution_count": 12,
   "id": "e1299a44",
   "metadata": {},
   "outputs": [
    {
     "data": {
      "text/plain": [
       "array([  26.,   25.,   34.,   45.,   36.,   13.,   62.,   10.,   20.,\n",
       "         33.,   15.,   50.,   24.,   29.,   40.,   19.,    9.,   21.,\n",
       "         30.,   16.,   46.,   22.,   70.,   41.,   12.,   18.,   14.,\n",
       "         85.,   32.,   17.,   35.,   38.,   95.,   28.,   11.,   69.,\n",
       "         75.,   80.,   48.,  110.,   27.,    8.,  212.,   23.,   42.,\n",
       "         44.,   31.,   37.,  135.,   39.,   60.,   55.,   65.,  130.,\n",
       "          7.,  195.,   54.,   49.,   90.,   63.,   43.,   72.,   78.,\n",
       "         68.,   64.,    6.,  140.,  224.,  160.,  100.,  225.,  120.,\n",
       "        115.,   56.,  328.,   66.,   76.,  117.,  370.,  125.,  639.,\n",
       "        116.,  200.,  162.,   51.,   58.,  106.,   47.,   57.,  150.,\n",
       "        105.,   71.,   59.,  231.,  146.,   52.,   96.,   73.,  280.,\n",
       "        400.,  190.,   86.,   79.,  600.,  260.,   67.,   99.,  450.,\n",
       "       3300.,   82.,  249.,   89.,  180.,   88.,   53.,  250.,  175.,\n",
       "        158.,  145., 1125.,  128.,  220.,   83.,   74.,  240.,   98.,\n",
       "        156.,   81.,  170.,   77.,  428.,  286.,   61.,  108.,  300.,\n",
       "        118.,  243.,  848.,   93.,   92.,  148.,  101.,  155.,  185.,\n",
       "        330.,  129.,  475., 2000.,   94.,  279.,  288.,  127.,   91.,\n",
       "        415.,  107.,    4.,  316.,  625.,  152.,  149.,  113.,  353.,\n",
       "        142.,  230.,  290.,  440.,  764.,  360.,    5.,  184.,  295.,\n",
       "        710.,  132.,  299.,  569.,  154.,  595.,  144.,  365.,  159.,\n",
       "        210.,  138.,  350.,  314.,  391.,   97.,  247.,  236.,  177.,\n",
       "        215.,  312.,  197.,  305.,  124.,  242.,  460.,  163.,  271.,\n",
       "        410.,  750.,   84.,  122.,  270.,  306.,  500.,  588.,  385.,\n",
       "        104.,  412.,  228.,  455.,  114.,  112.,  390.,  275.,  235.,\n",
       "        203.,  169., 1500.,  189.,  102.,  467.,  301.,  153.,  165.,\n",
       "        151.,  147.,  255.,  530.,  133.,  469.,  367.,  166.,  111.,\n",
       "        109.,   87.,  273.,  775.,  650.,  119.,  209.,  216., 1100.,\n",
       "        103.,  139.,  253.,  214.,  451.,  227.,  320.,  237.,  335.,\n",
       "        179.,  167.,  194.,  207.,  188.,  770., 2500.,  168.,  143.,\n",
       "        780., 1300.,  325.,  123.,  499.,  121.,  134.,  800.,  161.,\n",
       "        375.,  181.,  131.,  272.,  685.,  199.,  315.,  430.,  262.,\n",
       "        219.,  164.,  248.,  323.,  476.,  222.,  171.,  136.,  470.,\n",
       "        932.,  560.,  820.,  137.,  303.,  322.,  351.,  234.,  540.,\n",
       "        486.,  575.,  317.,  285.,  468.,  238.,  550.,  545.,  141.,\n",
       "        126.,  187.,  319.,  183.,  359.,  196.,  420.,  333.,  672.,\n",
       "        307.,  208.,  380.,  258.,  268.,  445.,  463., 2013.,  174.,\n",
       "        191.,  292.,  257.,  239.,  612.,  426.,  474.,  157.,  304.])"
      ]
     },
     "execution_count": 12,
     "metadata": {},
     "output_type": "execute_result"
    }
   ],
   "source": [
    "train['price'].unique()"
   ]
  },
  {
   "cell_type": "code",
   "execution_count": 13,
   "id": "e7f4b3a2",
   "metadata": {},
   "outputs": [
    {
     "data": {
      "text/plain": [
       "winery       0\n",
       "variety      0\n",
       "country     35\n",
       "province    35\n",
       "price        0\n",
       "points       0\n",
       "dtype: int64"
      ]
     },
     "execution_count": 13,
     "metadata": {},
     "output_type": "execute_result"
    }
   ],
   "source": [
    "train.isnull().sum()"
   ]
  },
  {
   "cell_type": "code",
   "execution_count": 14,
   "id": "438f8545",
   "metadata": {},
   "outputs": [
    {
     "name": "stderr",
     "output_type": "stream",
     "text": [
      "C:\\Users\\91897\\AppData\\Local\\Temp\\ipykernel_15044\\167719433.py:1: SettingWithCopyWarning: \n",
      "A value is trying to be set on a copy of a slice from a DataFrame\n",
      "\n",
      "See the caveats in the documentation: https://pandas.pydata.org/pandas-docs/stable/user_guide/indexing.html#returning-a-view-versus-a-copy\n",
      "  train.dropna(inplace=True)\n"
     ]
    }
   ],
   "source": [
    "train.dropna(inplace=True)"
   ]
  },
  {
   "cell_type": "code",
   "execution_count": 15,
   "id": "24735760",
   "metadata": {},
   "outputs": [
    {
     "data": {
      "text/plain": [
       "winery      0\n",
       "variety     0\n",
       "country     0\n",
       "province    0\n",
       "price       0\n",
       "points      0\n",
       "dtype: int64"
      ]
     },
     "execution_count": 15,
     "metadata": {},
     "output_type": "execute_result"
    }
   ],
   "source": [
    "train.isnull().sum()"
   ]
  },
  {
   "cell_type": "code",
   "execution_count": 16,
   "id": "7aaeb985",
   "metadata": {},
   "outputs": [
    {
     "data": {
      "text/html": [
       "<div>\n",
       "<style scoped>\n",
       "    .dataframe tbody tr th:only-of-type {\n",
       "        vertical-align: middle;\n",
       "    }\n",
       "\n",
       "    .dataframe tbody tr th {\n",
       "        vertical-align: top;\n",
       "    }\n",
       "\n",
       "    .dataframe thead th {\n",
       "        text-align: right;\n",
       "    }\n",
       "</style>\n",
       "<table border=\"1\" class=\"dataframe\">\n",
       "  <thead>\n",
       "    <tr style=\"text-align: right;\">\n",
       "      <th></th>\n",
       "      <th>winery</th>\n",
       "      <th>variety</th>\n",
       "      <th>country</th>\n",
       "      <th>province</th>\n",
       "      <th>price</th>\n",
       "      <th>points</th>\n",
       "    </tr>\n",
       "  </thead>\n",
       "  <tbody>\n",
       "    <tr>\n",
       "      <th>0</th>\n",
       "      <td>Volpaia</td>\n",
       "      <td>Red Blend</td>\n",
       "      <td>Italy</td>\n",
       "      <td>Tuscany</td>\n",
       "      <td>26.0</td>\n",
       "      <td>90</td>\n",
       "    </tr>\n",
       "    <tr>\n",
       "      <th>1</th>\n",
       "      <td>Isabelle et Pierre Clément</td>\n",
       "      <td>Pinot Noir</td>\n",
       "      <td>France</td>\n",
       "      <td>Loire Valley</td>\n",
       "      <td>25.0</td>\n",
       "      <td>88</td>\n",
       "    </tr>\n",
       "    <tr>\n",
       "      <th>2</th>\n",
       "      <td>Domdechant Werner</td>\n",
       "      <td>Riesling</td>\n",
       "      <td>Germany</td>\n",
       "      <td>Rheingau</td>\n",
       "      <td>34.0</td>\n",
       "      <td>90</td>\n",
       "    </tr>\n",
       "    <tr>\n",
       "      <th>3</th>\n",
       "      <td>Shiloh Winery</td>\n",
       "      <td>Cabernet Sauvignon</td>\n",
       "      <td>Israel</td>\n",
       "      <td>Judean Hills</td>\n",
       "      <td>45.0</td>\n",
       "      <td>91</td>\n",
       "    </tr>\n",
       "    <tr>\n",
       "      <th>4</th>\n",
       "      <td>Muscardini</td>\n",
       "      <td>Sangiovese</td>\n",
       "      <td>US</td>\n",
       "      <td>California</td>\n",
       "      <td>36.0</td>\n",
       "      <td>84</td>\n",
       "    </tr>\n",
       "  </tbody>\n",
       "</table>\n",
       "</div>"
      ],
      "text/plain": [
       "                       winery             variety  country      province  \\\n",
       "0                     Volpaia           Red Blend    Italy       Tuscany   \n",
       "1  Isabelle et Pierre Clément          Pinot Noir   France  Loire Valley   \n",
       "2           Domdechant Werner            Riesling  Germany      Rheingau   \n",
       "3               Shiloh Winery  Cabernet Sauvignon   Israel  Judean Hills   \n",
       "4                  Muscardini          Sangiovese       US    California   \n",
       "\n",
       "   price  points  \n",
       "0   26.0      90  \n",
       "1   25.0      88  \n",
       "2   34.0      90  \n",
       "3   45.0      91  \n",
       "4   36.0      84  "
      ]
     },
     "execution_count": 16,
     "metadata": {},
     "output_type": "execute_result"
    }
   ],
   "source": [
    "train.head()"
   ]
  },
  {
   "cell_type": "code",
   "execution_count": 17,
   "id": "bb066943",
   "metadata": {},
   "outputs": [],
   "source": [
    "backup = train.copy()"
   ]
  },
  {
   "cell_type": "code",
   "execution_count": 18,
   "id": "b6c8a9eb",
   "metadata": {},
   "outputs": [],
   "source": [
    "train = train[train.price.isna() == False]"
   ]
  },
  {
   "cell_type": "code",
   "execution_count": 19,
   "id": "5a662f57",
   "metadata": {},
   "outputs": [
    {
     "name": "stdout",
     "output_type": "stream",
     "text": [
      "<class 'pandas.core.frame.DataFrame'>\n",
      "Int64Index: 64965 entries, 0 to 64999\n",
      "Data columns (total 6 columns):\n",
      " #   Column    Non-Null Count  Dtype  \n",
      "---  ------    --------------  -----  \n",
      " 0   winery    64965 non-null  object \n",
      " 1   variety   64965 non-null  object \n",
      " 2   country   64965 non-null  object \n",
      " 3   province  64965 non-null  object \n",
      " 4   price     64965 non-null  float64\n",
      " 5   points    64965 non-null  int64  \n",
      "dtypes: float64(1), int64(1), object(4)\n",
      "memory usage: 3.5+ MB\n"
     ]
    }
   ],
   "source": [
    "train.info()"
   ]
  },
  {
   "cell_type": "code",
   "execution_count": 20,
   "id": "dceb0f1a",
   "metadata": {},
   "outputs": [],
   "source": [
    "train['winery'] = train['winery'].str.split(' ').str.slice(0,3).str.join(' ')"
   ]
  },
  {
   "cell_type": "code",
   "execution_count": 21,
   "id": "cf914e99",
   "metadata": {},
   "outputs": [],
   "source": [
    "train['variety'] = train['variety'].str.split(' ').str.slice(0,3).str.join(' ')"
   ]
  },
  {
   "cell_type": "code",
   "execution_count": 22,
   "id": "ada5f1cc",
   "metadata": {},
   "outputs": [
    {
     "data": {
      "text/html": [
       "<div>\n",
       "<style scoped>\n",
       "    .dataframe tbody tr th:only-of-type {\n",
       "        vertical-align: middle;\n",
       "    }\n",
       "\n",
       "    .dataframe tbody tr th {\n",
       "        vertical-align: top;\n",
       "    }\n",
       "\n",
       "    .dataframe thead th {\n",
       "        text-align: right;\n",
       "    }\n",
       "</style>\n",
       "<table border=\"1\" class=\"dataframe\">\n",
       "  <thead>\n",
       "    <tr style=\"text-align: right;\">\n",
       "      <th></th>\n",
       "      <th>winery</th>\n",
       "      <th>variety</th>\n",
       "      <th>country</th>\n",
       "      <th>province</th>\n",
       "      <th>price</th>\n",
       "      <th>points</th>\n",
       "    </tr>\n",
       "  </thead>\n",
       "  <tbody>\n",
       "    <tr>\n",
       "      <th>0</th>\n",
       "      <td>Volpaia</td>\n",
       "      <td>Red Blend</td>\n",
       "      <td>Italy</td>\n",
       "      <td>Tuscany</td>\n",
       "      <td>26.0</td>\n",
       "      <td>90</td>\n",
       "    </tr>\n",
       "    <tr>\n",
       "      <th>1</th>\n",
       "      <td>Isabelle et Pierre</td>\n",
       "      <td>Pinot Noir</td>\n",
       "      <td>France</td>\n",
       "      <td>Loire Valley</td>\n",
       "      <td>25.0</td>\n",
       "      <td>88</td>\n",
       "    </tr>\n",
       "    <tr>\n",
       "      <th>2</th>\n",
       "      <td>Domdechant Werner</td>\n",
       "      <td>Riesling</td>\n",
       "      <td>Germany</td>\n",
       "      <td>Rheingau</td>\n",
       "      <td>34.0</td>\n",
       "      <td>90</td>\n",
       "    </tr>\n",
       "    <tr>\n",
       "      <th>3</th>\n",
       "      <td>Shiloh Winery</td>\n",
       "      <td>Cabernet Sauvignon</td>\n",
       "      <td>Israel</td>\n",
       "      <td>Judean Hills</td>\n",
       "      <td>45.0</td>\n",
       "      <td>91</td>\n",
       "    </tr>\n",
       "    <tr>\n",
       "      <th>4</th>\n",
       "      <td>Muscardini</td>\n",
       "      <td>Sangiovese</td>\n",
       "      <td>US</td>\n",
       "      <td>California</td>\n",
       "      <td>36.0</td>\n",
       "      <td>84</td>\n",
       "    </tr>\n",
       "    <tr>\n",
       "      <th>...</th>\n",
       "      <td>...</td>\n",
       "      <td>...</td>\n",
       "      <td>...</td>\n",
       "      <td>...</td>\n",
       "      <td>...</td>\n",
       "      <td>...</td>\n",
       "    </tr>\n",
       "    <tr>\n",
       "      <th>64995</th>\n",
       "      <td>Dunham</td>\n",
       "      <td>Chardonnay</td>\n",
       "      <td>US</td>\n",
       "      <td>Washington</td>\n",
       "      <td>24.0</td>\n",
       "      <td>91</td>\n",
       "    </tr>\n",
       "    <tr>\n",
       "      <th>64996</th>\n",
       "      <td>Eagle Castle</td>\n",
       "      <td>Chardonnay</td>\n",
       "      <td>US</td>\n",
       "      <td>California</td>\n",
       "      <td>18.0</td>\n",
       "      <td>81</td>\n",
       "    </tr>\n",
       "    <tr>\n",
       "      <th>64997</th>\n",
       "      <td>Bunnell</td>\n",
       "      <td>Red Blend</td>\n",
       "      <td>US</td>\n",
       "      <td>Washington</td>\n",
       "      <td>34.0</td>\n",
       "      <td>88</td>\n",
       "    </tr>\n",
       "    <tr>\n",
       "      <th>64998</th>\n",
       "      <td>I Capitani</td>\n",
       "      <td>Aglianico</td>\n",
       "      <td>Italy</td>\n",
       "      <td>Southern Italy</td>\n",
       "      <td>17.0</td>\n",
       "      <td>87</td>\n",
       "    </tr>\n",
       "    <tr>\n",
       "      <th>64999</th>\n",
       "      <td>Fazeli Cellars</td>\n",
       "      <td>Red Blend</td>\n",
       "      <td>US</td>\n",
       "      <td>California</td>\n",
       "      <td>35.0</td>\n",
       "      <td>91</td>\n",
       "    </tr>\n",
       "  </tbody>\n",
       "</table>\n",
       "<p>64965 rows × 6 columns</p>\n",
       "</div>"
      ],
      "text/plain": [
       "                   winery             variety  country        province  price  \\\n",
       "0                 Volpaia           Red Blend    Italy         Tuscany   26.0   \n",
       "1      Isabelle et Pierre          Pinot Noir   France    Loire Valley   25.0   \n",
       "2       Domdechant Werner            Riesling  Germany        Rheingau   34.0   \n",
       "3           Shiloh Winery  Cabernet Sauvignon   Israel    Judean Hills   45.0   \n",
       "4              Muscardini          Sangiovese       US      California   36.0   \n",
       "...                   ...                 ...      ...             ...    ...   \n",
       "64995              Dunham          Chardonnay       US      Washington   24.0   \n",
       "64996        Eagle Castle          Chardonnay       US      California   18.0   \n",
       "64997             Bunnell           Red Blend       US      Washington   34.0   \n",
       "64998          I Capitani           Aglianico    Italy  Southern Italy   17.0   \n",
       "64999      Fazeli Cellars           Red Blend       US      California   35.0   \n",
       "\n",
       "       points  \n",
       "0          90  \n",
       "1          88  \n",
       "2          90  \n",
       "3          91  \n",
       "4          84  \n",
       "...       ...  \n",
       "64995      91  \n",
       "64996      81  \n",
       "64997      88  \n",
       "64998      87  \n",
       "64999      91  \n",
       "\n",
       "[64965 rows x 6 columns]"
      ]
     },
     "execution_count": 22,
     "metadata": {},
     "output_type": "execute_result"
    }
   ],
   "source": [
    "train"
   ]
  },
  {
   "cell_type": "code",
   "execution_count": 23,
   "id": "1eb9d32a",
   "metadata": {},
   "outputs": [],
   "source": [
    "train.to_csv(\"wine_.csv\")"
   ]
  },
  {
   "cell_type": "markdown",
   "id": "2f7213e3",
   "metadata": {},
   "source": [
    "## Cleaned Data"
   ]
  },
  {
   "cell_type": "code",
   "execution_count": 24,
   "id": "f3b6043f",
   "metadata": {},
   "outputs": [
    {
     "data": {
      "text/html": [
       "<div>\n",
       "<style scoped>\n",
       "    .dataframe tbody tr th:only-of-type {\n",
       "        vertical-align: middle;\n",
       "    }\n",
       "\n",
       "    .dataframe tbody tr th {\n",
       "        vertical-align: top;\n",
       "    }\n",
       "\n",
       "    .dataframe thead th {\n",
       "        text-align: right;\n",
       "    }\n",
       "</style>\n",
       "<table border=\"1\" class=\"dataframe\">\n",
       "  <thead>\n",
       "    <tr style=\"text-align: right;\">\n",
       "      <th></th>\n",
       "      <th>winery</th>\n",
       "      <th>variety</th>\n",
       "      <th>country</th>\n",
       "      <th>province</th>\n",
       "      <th>price</th>\n",
       "      <th>points</th>\n",
       "    </tr>\n",
       "  </thead>\n",
       "  <tbody>\n",
       "    <tr>\n",
       "      <th>0</th>\n",
       "      <td>Volpaia</td>\n",
       "      <td>Red Blend</td>\n",
       "      <td>Italy</td>\n",
       "      <td>Tuscany</td>\n",
       "      <td>26.0</td>\n",
       "      <td>90</td>\n",
       "    </tr>\n",
       "    <tr>\n",
       "      <th>1</th>\n",
       "      <td>Isabelle et Pierre</td>\n",
       "      <td>Pinot Noir</td>\n",
       "      <td>France</td>\n",
       "      <td>Loire Valley</td>\n",
       "      <td>25.0</td>\n",
       "      <td>88</td>\n",
       "    </tr>\n",
       "    <tr>\n",
       "      <th>2</th>\n",
       "      <td>Domdechant Werner</td>\n",
       "      <td>Riesling</td>\n",
       "      <td>Germany</td>\n",
       "      <td>Rheingau</td>\n",
       "      <td>34.0</td>\n",
       "      <td>90</td>\n",
       "    </tr>\n",
       "    <tr>\n",
       "      <th>3</th>\n",
       "      <td>Shiloh Winery</td>\n",
       "      <td>Cabernet Sauvignon</td>\n",
       "      <td>Israel</td>\n",
       "      <td>Judean Hills</td>\n",
       "      <td>45.0</td>\n",
       "      <td>91</td>\n",
       "    </tr>\n",
       "    <tr>\n",
       "      <th>4</th>\n",
       "      <td>Muscardini</td>\n",
       "      <td>Sangiovese</td>\n",
       "      <td>US</td>\n",
       "      <td>California</td>\n",
       "      <td>36.0</td>\n",
       "      <td>84</td>\n",
       "    </tr>\n",
       "    <tr>\n",
       "      <th>...</th>\n",
       "      <td>...</td>\n",
       "      <td>...</td>\n",
       "      <td>...</td>\n",
       "      <td>...</td>\n",
       "      <td>...</td>\n",
       "      <td>...</td>\n",
       "    </tr>\n",
       "    <tr>\n",
       "      <th>64995</th>\n",
       "      <td>Dunham</td>\n",
       "      <td>Chardonnay</td>\n",
       "      <td>US</td>\n",
       "      <td>Washington</td>\n",
       "      <td>24.0</td>\n",
       "      <td>91</td>\n",
       "    </tr>\n",
       "    <tr>\n",
       "      <th>64996</th>\n",
       "      <td>Eagle Castle</td>\n",
       "      <td>Chardonnay</td>\n",
       "      <td>US</td>\n",
       "      <td>California</td>\n",
       "      <td>18.0</td>\n",
       "      <td>81</td>\n",
       "    </tr>\n",
       "    <tr>\n",
       "      <th>64997</th>\n",
       "      <td>Bunnell</td>\n",
       "      <td>Red Blend</td>\n",
       "      <td>US</td>\n",
       "      <td>Washington</td>\n",
       "      <td>34.0</td>\n",
       "      <td>88</td>\n",
       "    </tr>\n",
       "    <tr>\n",
       "      <th>64998</th>\n",
       "      <td>I Capitani</td>\n",
       "      <td>Aglianico</td>\n",
       "      <td>Italy</td>\n",
       "      <td>Southern Italy</td>\n",
       "      <td>17.0</td>\n",
       "      <td>87</td>\n",
       "    </tr>\n",
       "    <tr>\n",
       "      <th>64999</th>\n",
       "      <td>Fazeli Cellars</td>\n",
       "      <td>Red Blend</td>\n",
       "      <td>US</td>\n",
       "      <td>California</td>\n",
       "      <td>35.0</td>\n",
       "      <td>91</td>\n",
       "    </tr>\n",
       "  </tbody>\n",
       "</table>\n",
       "<p>64965 rows × 6 columns</p>\n",
       "</div>"
      ],
      "text/plain": [
       "                   winery             variety  country        province  price  \\\n",
       "0                 Volpaia           Red Blend    Italy         Tuscany   26.0   \n",
       "1      Isabelle et Pierre          Pinot Noir   France    Loire Valley   25.0   \n",
       "2       Domdechant Werner            Riesling  Germany        Rheingau   34.0   \n",
       "3           Shiloh Winery  Cabernet Sauvignon   Israel    Judean Hills   45.0   \n",
       "4              Muscardini          Sangiovese       US      California   36.0   \n",
       "...                   ...                 ...      ...             ...    ...   \n",
       "64995              Dunham          Chardonnay       US      Washington   24.0   \n",
       "64996        Eagle Castle          Chardonnay       US      California   18.0   \n",
       "64997             Bunnell           Red Blend       US      Washington   34.0   \n",
       "64998          I Capitani           Aglianico    Italy  Southern Italy   17.0   \n",
       "64999      Fazeli Cellars           Red Blend       US      California   35.0   \n",
       "\n",
       "       points  \n",
       "0          90  \n",
       "1          88  \n",
       "2          90  \n",
       "3          91  \n",
       "4          84  \n",
       "...       ...  \n",
       "64995      91  \n",
       "64996      81  \n",
       "64997      88  \n",
       "64998      87  \n",
       "64999      91  \n",
       "\n",
       "[64965 rows x 6 columns]"
      ]
     },
     "execution_count": 24,
     "metadata": {},
     "output_type": "execute_result"
    }
   ],
   "source": [
    "train"
   ]
  },
  {
   "cell_type": "code",
   "execution_count": 25,
   "id": "df843140",
   "metadata": {},
   "outputs": [],
   "source": [
    "train = train.reset_index(drop=True)"
   ]
  },
  {
   "cell_type": "code",
   "execution_count": 26,
   "id": "fda5c880",
   "metadata": {},
   "outputs": [
    {
     "data": {
      "text/html": [
       "<div>\n",
       "<style scoped>\n",
       "    .dataframe tbody tr th:only-of-type {\n",
       "        vertical-align: middle;\n",
       "    }\n",
       "\n",
       "    .dataframe tbody tr th {\n",
       "        vertical-align: top;\n",
       "    }\n",
       "\n",
       "    .dataframe thead th {\n",
       "        text-align: right;\n",
       "    }\n",
       "</style>\n",
       "<table border=\"1\" class=\"dataframe\">\n",
       "  <thead>\n",
       "    <tr style=\"text-align: right;\">\n",
       "      <th></th>\n",
       "      <th>price</th>\n",
       "      <th>points</th>\n",
       "    </tr>\n",
       "  </thead>\n",
       "  <tbody>\n",
       "    <tr>\n",
       "      <th>count</th>\n",
       "      <td>64965.000000</td>\n",
       "      <td>64965.000000</td>\n",
       "    </tr>\n",
       "    <tr>\n",
       "      <th>mean</th>\n",
       "      <td>35.450366</td>\n",
       "      <td>88.427045</td>\n",
       "    </tr>\n",
       "    <tr>\n",
       "      <th>std</th>\n",
       "      <td>42.609545</td>\n",
       "      <td>3.042288</td>\n",
       "    </tr>\n",
       "    <tr>\n",
       "      <th>min</th>\n",
       "      <td>4.000000</td>\n",
       "      <td>80.000000</td>\n",
       "    </tr>\n",
       "    <tr>\n",
       "      <th>25%</th>\n",
       "      <td>17.000000</td>\n",
       "      <td>86.000000</td>\n",
       "    </tr>\n",
       "    <tr>\n",
       "      <th>50%</th>\n",
       "      <td>25.000000</td>\n",
       "      <td>88.000000</td>\n",
       "    </tr>\n",
       "    <tr>\n",
       "      <th>75%</th>\n",
       "      <td>42.000000</td>\n",
       "      <td>91.000000</td>\n",
       "    </tr>\n",
       "    <tr>\n",
       "      <th>max</th>\n",
       "      <td>3300.000000</td>\n",
       "      <td>100.000000</td>\n",
       "    </tr>\n",
       "  </tbody>\n",
       "</table>\n",
       "</div>"
      ],
      "text/plain": [
       "              price        points\n",
       "count  64965.000000  64965.000000\n",
       "mean      35.450366     88.427045\n",
       "std       42.609545      3.042288\n",
       "min        4.000000     80.000000\n",
       "25%       17.000000     86.000000\n",
       "50%       25.000000     88.000000\n",
       "75%       42.000000     91.000000\n",
       "max     3300.000000    100.000000"
      ]
     },
     "execution_count": 26,
     "metadata": {},
     "output_type": "execute_result"
    }
   ],
   "source": [
    "train.describe()"
   ]
  },
  {
   "cell_type": "code",
   "execution_count": 27,
   "id": "e4908cb1",
   "metadata": {},
   "outputs": [
    {
     "data": {
      "text/plain": [
       "3300.0"
      ]
     },
     "execution_count": 27,
     "metadata": {},
     "output_type": "execute_result"
    }
   ],
   "source": [
    "train['price'].max()"
   ]
  },
  {
   "cell_type": "code",
   "execution_count": 28,
   "id": "27f8fa4c",
   "metadata": {},
   "outputs": [],
   "source": [
    "#Removing Outliers\n",
    "train = train[train['price']<1000]"
   ]
  },
  {
   "cell_type": "code",
   "execution_count": 29,
   "id": "8f0b8771",
   "metadata": {},
   "outputs": [
    {
     "data": {
      "text/plain": [
       "(64955, 6)"
      ]
     },
     "execution_count": 29,
     "metadata": {},
     "output_type": "execute_result"
    }
   ],
   "source": [
    "train.shape"
   ]
  },
  {
   "cell_type": "code",
   "execution_count": 30,
   "id": "d8ad36f5",
   "metadata": {},
   "outputs": [],
   "source": [
    "X = train.drop(columns='price')\n",
    "Y = train['price']"
   ]
  },
  {
   "cell_type": "markdown",
   "id": "7be0e8b5",
   "metadata": {},
   "source": [
    "## Applying Train Test Split"
   ]
  },
  {
   "cell_type": "code",
   "execution_count": 31,
   "id": "9cd9256c",
   "metadata": {},
   "outputs": [],
   "source": [
    "from sklearn.model_selection import train_test_split\n",
    "X_train, X_test, y_train, y_test = train_test_split(X,Y,test_size =0.3)"
   ]
  },
  {
   "cell_type": "code",
   "execution_count": 32,
   "id": "63cbd1c7",
   "metadata": {},
   "outputs": [],
   "source": [
    "from sklearn.linear_model import LinearRegression\n",
    "from sklearn.preprocessing import OneHotEncoder\n",
    "from sklearn.compose import make_column_transformer\n",
    "from sklearn.pipeline import make_pipeline\n",
    "from sklearn.metrics import r2_score"
   ]
  },
  {
   "cell_type": "markdown",
   "id": "c955104d",
   "metadata": {},
   "source": [
    "## Creating an OneHotEncoder object to contain all the possible categories"
   ]
  },
  {
   "cell_type": "code",
   "execution_count": 33,
   "id": "be6efabd",
   "metadata": {},
   "outputs": [
    {
     "data": {
      "text/html": [
       "<style>#sk-container-id-1 {color: black;background-color: white;}#sk-container-id-1 pre{padding: 0;}#sk-container-id-1 div.sk-toggleable {background-color: white;}#sk-container-id-1 label.sk-toggleable__label {cursor: pointer;display: block;width: 100%;margin-bottom: 0;padding: 0.3em;box-sizing: border-box;text-align: center;}#sk-container-id-1 label.sk-toggleable__label-arrow:before {content: \"▸\";float: left;margin-right: 0.25em;color: #696969;}#sk-container-id-1 label.sk-toggleable__label-arrow:hover:before {color: black;}#sk-container-id-1 div.sk-estimator:hover label.sk-toggleable__label-arrow:before {color: black;}#sk-container-id-1 div.sk-toggleable__content {max-height: 0;max-width: 0;overflow: hidden;text-align: left;background-color: #f0f8ff;}#sk-container-id-1 div.sk-toggleable__content pre {margin: 0.2em;color: black;border-radius: 0.25em;background-color: #f0f8ff;}#sk-container-id-1 input.sk-toggleable__control:checked~div.sk-toggleable__content {max-height: 200px;max-width: 100%;overflow: auto;}#sk-container-id-1 input.sk-toggleable__control:checked~label.sk-toggleable__label-arrow:before {content: \"▾\";}#sk-container-id-1 div.sk-estimator input.sk-toggleable__control:checked~label.sk-toggleable__label {background-color: #d4ebff;}#sk-container-id-1 div.sk-label input.sk-toggleable__control:checked~label.sk-toggleable__label {background-color: #d4ebff;}#sk-container-id-1 input.sk-hidden--visually {border: 0;clip: rect(1px 1px 1px 1px);clip: rect(1px, 1px, 1px, 1px);height: 1px;margin: -1px;overflow: hidden;padding: 0;position: absolute;width: 1px;}#sk-container-id-1 div.sk-estimator {font-family: monospace;background-color: #f0f8ff;border: 1px dotted black;border-radius: 0.25em;box-sizing: border-box;margin-bottom: 0.5em;}#sk-container-id-1 div.sk-estimator:hover {background-color: #d4ebff;}#sk-container-id-1 div.sk-parallel-item::after {content: \"\";width: 100%;border-bottom: 1px solid gray;flex-grow: 1;}#sk-container-id-1 div.sk-label:hover label.sk-toggleable__label {background-color: #d4ebff;}#sk-container-id-1 div.sk-serial::before {content: \"\";position: absolute;border-left: 1px solid gray;box-sizing: border-box;top: 0;bottom: 0;left: 50%;z-index: 0;}#sk-container-id-1 div.sk-serial {display: flex;flex-direction: column;align-items: center;background-color: white;padding-right: 0.2em;padding-left: 0.2em;position: relative;}#sk-container-id-1 div.sk-item {position: relative;z-index: 1;}#sk-container-id-1 div.sk-parallel {display: flex;align-items: stretch;justify-content: center;background-color: white;position: relative;}#sk-container-id-1 div.sk-item::before, #sk-container-id-1 div.sk-parallel-item::before {content: \"\";position: absolute;border-left: 1px solid gray;box-sizing: border-box;top: 0;bottom: 0;left: 50%;z-index: -1;}#sk-container-id-1 div.sk-parallel-item {display: flex;flex-direction: column;z-index: 1;position: relative;background-color: white;}#sk-container-id-1 div.sk-parallel-item:first-child::after {align-self: flex-end;width: 50%;}#sk-container-id-1 div.sk-parallel-item:last-child::after {align-self: flex-start;width: 50%;}#sk-container-id-1 div.sk-parallel-item:only-child::after {width: 0;}#sk-container-id-1 div.sk-dashed-wrapped {border: 1px dashed gray;margin: 0 0.4em 0.5em 0.4em;box-sizing: border-box;padding-bottom: 0.4em;background-color: white;}#sk-container-id-1 div.sk-label label {font-family: monospace;font-weight: bold;display: inline-block;line-height: 1.2em;}#sk-container-id-1 div.sk-label-container {text-align: center;}#sk-container-id-1 div.sk-container {/* jupyter's `normalize.less` sets `[hidden] { display: none; }` but bootstrap.min.css set `[hidden] { display: none !important; }` so we also need the `!important` here to be able to override the default hidden behavior on the sphinx rendered scikit-learn.org. See: https://github.com/scikit-learn/scikit-learn/issues/21755 */display: inline-block !important;position: relative;}#sk-container-id-1 div.sk-text-repr-fallback {display: none;}</style><div id=\"sk-container-id-1\" class=\"sk-top-container\"><div class=\"sk-text-repr-fallback\"><pre>OneHotEncoder()</pre><b>In a Jupyter environment, please rerun this cell to show the HTML representation or trust the notebook. <br />On GitHub, the HTML representation is unable to render, please try loading this page with nbviewer.org.</b></div><div class=\"sk-container\" hidden><div class=\"sk-item\"><div class=\"sk-estimator sk-toggleable\"><input class=\"sk-toggleable__control sk-hidden--visually\" id=\"sk-estimator-id-1\" type=\"checkbox\" checked><label for=\"sk-estimator-id-1\" class=\"sk-toggleable__label sk-toggleable__label-arrow\">OneHotEncoder</label><div class=\"sk-toggleable__content\"><pre>OneHotEncoder()</pre></div></div></div></div></div>"
      ],
      "text/plain": [
       "OneHotEncoder()"
      ]
     },
     "execution_count": 33,
     "metadata": {},
     "output_type": "execute_result"
    }
   ],
   "source": [
    "ohe = OneHotEncoder()\n",
    "ohe.fit(X[['winery','variety','country','province']])"
   ]
  },
  {
   "cell_type": "markdown",
   "id": "2bc1c13e",
   "metadata": {},
   "source": [
    "## Creating a column transformer to transform categorical columns"
   ]
  },
  {
   "cell_type": "code",
   "execution_count": 34,
   "id": "949ab79b",
   "metadata": {},
   "outputs": [],
   "source": [
    "column_trans=make_column_transformer((OneHotEncoder(categories=ohe.categories_),['winery','variety','country','province']),\n",
    "                                    remainder='passthrough')"
   ]
  },
  {
   "cell_type": "markdown",
   "id": "69b6e7f1",
   "metadata": {},
   "source": [
    "## Linear Regression Model"
   ]
  },
  {
   "cell_type": "code",
   "execution_count": 35,
   "id": "8db5681d",
   "metadata": {},
   "outputs": [],
   "source": [
    "lr=LinearRegression()"
   ]
  },
  {
   "cell_type": "code",
   "execution_count": 36,
   "id": "def58bc7",
   "metadata": {},
   "outputs": [],
   "source": [
    "pipe=make_pipeline(column_trans,lr)"
   ]
  },
  {
   "cell_type": "code",
   "execution_count": 37,
   "id": "dcb49d0c",
   "metadata": {},
   "outputs": [
    {
     "data": {
      "text/html": [
       "<style>#sk-container-id-2 {color: black;background-color: white;}#sk-container-id-2 pre{padding: 0;}#sk-container-id-2 div.sk-toggleable {background-color: white;}#sk-container-id-2 label.sk-toggleable__label {cursor: pointer;display: block;width: 100%;margin-bottom: 0;padding: 0.3em;box-sizing: border-box;text-align: center;}#sk-container-id-2 label.sk-toggleable__label-arrow:before {content: \"▸\";float: left;margin-right: 0.25em;color: #696969;}#sk-container-id-2 label.sk-toggleable__label-arrow:hover:before {color: black;}#sk-container-id-2 div.sk-estimator:hover label.sk-toggleable__label-arrow:before {color: black;}#sk-container-id-2 div.sk-toggleable__content {max-height: 0;max-width: 0;overflow: hidden;text-align: left;background-color: #f0f8ff;}#sk-container-id-2 div.sk-toggleable__content pre {margin: 0.2em;color: black;border-radius: 0.25em;background-color: #f0f8ff;}#sk-container-id-2 input.sk-toggleable__control:checked~div.sk-toggleable__content {max-height: 200px;max-width: 100%;overflow: auto;}#sk-container-id-2 input.sk-toggleable__control:checked~label.sk-toggleable__label-arrow:before {content: \"▾\";}#sk-container-id-2 div.sk-estimator input.sk-toggleable__control:checked~label.sk-toggleable__label {background-color: #d4ebff;}#sk-container-id-2 div.sk-label input.sk-toggleable__control:checked~label.sk-toggleable__label {background-color: #d4ebff;}#sk-container-id-2 input.sk-hidden--visually {border: 0;clip: rect(1px 1px 1px 1px);clip: rect(1px, 1px, 1px, 1px);height: 1px;margin: -1px;overflow: hidden;padding: 0;position: absolute;width: 1px;}#sk-container-id-2 div.sk-estimator {font-family: monospace;background-color: #f0f8ff;border: 1px dotted black;border-radius: 0.25em;box-sizing: border-box;margin-bottom: 0.5em;}#sk-container-id-2 div.sk-estimator:hover {background-color: #d4ebff;}#sk-container-id-2 div.sk-parallel-item::after {content: \"\";width: 100%;border-bottom: 1px solid gray;flex-grow: 1;}#sk-container-id-2 div.sk-label:hover label.sk-toggleable__label {background-color: #d4ebff;}#sk-container-id-2 div.sk-serial::before {content: \"\";position: absolute;border-left: 1px solid gray;box-sizing: border-box;top: 0;bottom: 0;left: 50%;z-index: 0;}#sk-container-id-2 div.sk-serial {display: flex;flex-direction: column;align-items: center;background-color: white;padding-right: 0.2em;padding-left: 0.2em;position: relative;}#sk-container-id-2 div.sk-item {position: relative;z-index: 1;}#sk-container-id-2 div.sk-parallel {display: flex;align-items: stretch;justify-content: center;background-color: white;position: relative;}#sk-container-id-2 div.sk-item::before, #sk-container-id-2 div.sk-parallel-item::before {content: \"\";position: absolute;border-left: 1px solid gray;box-sizing: border-box;top: 0;bottom: 0;left: 50%;z-index: -1;}#sk-container-id-2 div.sk-parallel-item {display: flex;flex-direction: column;z-index: 1;position: relative;background-color: white;}#sk-container-id-2 div.sk-parallel-item:first-child::after {align-self: flex-end;width: 50%;}#sk-container-id-2 div.sk-parallel-item:last-child::after {align-self: flex-start;width: 50%;}#sk-container-id-2 div.sk-parallel-item:only-child::after {width: 0;}#sk-container-id-2 div.sk-dashed-wrapped {border: 1px dashed gray;margin: 0 0.4em 0.5em 0.4em;box-sizing: border-box;padding-bottom: 0.4em;background-color: white;}#sk-container-id-2 div.sk-label label {font-family: monospace;font-weight: bold;display: inline-block;line-height: 1.2em;}#sk-container-id-2 div.sk-label-container {text-align: center;}#sk-container-id-2 div.sk-container {/* jupyter's `normalize.less` sets `[hidden] { display: none; }` but bootstrap.min.css set `[hidden] { display: none !important; }` so we also need the `!important` here to be able to override the default hidden behavior on the sphinx rendered scikit-learn.org. See: https://github.com/scikit-learn/scikit-learn/issues/21755 */display: inline-block !important;position: relative;}#sk-container-id-2 div.sk-text-repr-fallback {display: none;}</style><div id=\"sk-container-id-2\" class=\"sk-top-container\"><div class=\"sk-text-repr-fallback\"><pre>Pipeline(steps=[(&#x27;columntransformer&#x27;,\n",
       "                 ColumnTransformer(remainder=&#x27;passthrough&#x27;,\n",
       "                                   transformers=[(&#x27;onehotencoder&#x27;,\n",
       "                                                  OneHotEncoder(categories=[array([&#x27;1+1=3&#x27;, &#x27;10 Knots&#x27;, &#x27;10Span&#x27;, ..., &#x27;Ökonomierat Rebholz&#x27;,\n",
       "       &#x27;àMaurice&#x27;, &#x27;Štoka&#x27;], dtype=object),\n",
       "                                                                            array([&#x27;Abouriou&#x27;, &#x27;Agiorgitiko&#x27;, &#x27;Aglianico&#x27;, &#x27;Airen&#x27;, &#x27;Albana&#x27;,\n",
       "       &#x27;Albanello&#x27;, &#x27;Albariño&#x27;, &#x27;Albarossa&#x27;, &#x27;Aleatico&#x27;, &#x27;Alfrocheiro&#x27;,...\n",
       "       &#x27;Wairarapa&#x27;, &#x27;Wairau Valley&#x27;, &#x27;Walker Bay&#x27;, &#x27;Washington&#x27;,\n",
       "       &#x27;Washington-Oregon&#x27;, &#x27;Weinland Österreich&#x27;, &#x27;Weinviertel&#x27;,\n",
       "       &#x27;Wellington&#x27;, &#x27;Western Australia&#x27;, &#x27;Western Cape&#x27;,\n",
       "       &#x27;Wiener Gemischter Satz&#x27;, &#x27;Württemberg&#x27;, &#x27;Zenata&#x27;,\n",
       "       &#x27;Österreichischer Perlwein&#x27;, &#x27;Österreichischer Sekt&#x27;, &#x27;Štajerska&#x27;,\n",
       "       &#x27;Župa&#x27;], dtype=object)]),\n",
       "                                                  [&#x27;winery&#x27;, &#x27;variety&#x27;,\n",
       "                                                   &#x27;country&#x27;, &#x27;province&#x27;])])),\n",
       "                (&#x27;linearregression&#x27;, LinearRegression())])</pre><b>In a Jupyter environment, please rerun this cell to show the HTML representation or trust the notebook. <br />On GitHub, the HTML representation is unable to render, please try loading this page with nbviewer.org.</b></div><div class=\"sk-container\" hidden><div class=\"sk-item sk-dashed-wrapped\"><div class=\"sk-label-container\"><div class=\"sk-label sk-toggleable\"><input class=\"sk-toggleable__control sk-hidden--visually\" id=\"sk-estimator-id-2\" type=\"checkbox\" ><label for=\"sk-estimator-id-2\" class=\"sk-toggleable__label sk-toggleable__label-arrow\">Pipeline</label><div class=\"sk-toggleable__content\"><pre>Pipeline(steps=[(&#x27;columntransformer&#x27;,\n",
       "                 ColumnTransformer(remainder=&#x27;passthrough&#x27;,\n",
       "                                   transformers=[(&#x27;onehotencoder&#x27;,\n",
       "                                                  OneHotEncoder(categories=[array([&#x27;1+1=3&#x27;, &#x27;10 Knots&#x27;, &#x27;10Span&#x27;, ..., &#x27;Ökonomierat Rebholz&#x27;,\n",
       "       &#x27;àMaurice&#x27;, &#x27;Štoka&#x27;], dtype=object),\n",
       "                                                                            array([&#x27;Abouriou&#x27;, &#x27;Agiorgitiko&#x27;, &#x27;Aglianico&#x27;, &#x27;Airen&#x27;, &#x27;Albana&#x27;,\n",
       "       &#x27;Albanello&#x27;, &#x27;Albariño&#x27;, &#x27;Albarossa&#x27;, &#x27;Aleatico&#x27;, &#x27;Alfrocheiro&#x27;,...\n",
       "       &#x27;Wairarapa&#x27;, &#x27;Wairau Valley&#x27;, &#x27;Walker Bay&#x27;, &#x27;Washington&#x27;,\n",
       "       &#x27;Washington-Oregon&#x27;, &#x27;Weinland Österreich&#x27;, &#x27;Weinviertel&#x27;,\n",
       "       &#x27;Wellington&#x27;, &#x27;Western Australia&#x27;, &#x27;Western Cape&#x27;,\n",
       "       &#x27;Wiener Gemischter Satz&#x27;, &#x27;Württemberg&#x27;, &#x27;Zenata&#x27;,\n",
       "       &#x27;Österreichischer Perlwein&#x27;, &#x27;Österreichischer Sekt&#x27;, &#x27;Štajerska&#x27;,\n",
       "       &#x27;Župa&#x27;], dtype=object)]),\n",
       "                                                  [&#x27;winery&#x27;, &#x27;variety&#x27;,\n",
       "                                                   &#x27;country&#x27;, &#x27;province&#x27;])])),\n",
       "                (&#x27;linearregression&#x27;, LinearRegression())])</pre></div></div></div><div class=\"sk-serial\"><div class=\"sk-item sk-dashed-wrapped\"><div class=\"sk-label-container\"><div class=\"sk-label sk-toggleable\"><input class=\"sk-toggleable__control sk-hidden--visually\" id=\"sk-estimator-id-3\" type=\"checkbox\" ><label for=\"sk-estimator-id-3\" class=\"sk-toggleable__label sk-toggleable__label-arrow\">columntransformer: ColumnTransformer</label><div class=\"sk-toggleable__content\"><pre>ColumnTransformer(remainder=&#x27;passthrough&#x27;,\n",
       "                  transformers=[(&#x27;onehotencoder&#x27;,\n",
       "                                 OneHotEncoder(categories=[array([&#x27;1+1=3&#x27;, &#x27;10 Knots&#x27;, &#x27;10Span&#x27;, ..., &#x27;Ökonomierat Rebholz&#x27;,\n",
       "       &#x27;àMaurice&#x27;, &#x27;Štoka&#x27;], dtype=object),\n",
       "                                                           array([&#x27;Abouriou&#x27;, &#x27;Agiorgitiko&#x27;, &#x27;Aglianico&#x27;, &#x27;Airen&#x27;, &#x27;Albana&#x27;,\n",
       "       &#x27;Albanello&#x27;, &#x27;Albariño&#x27;, &#x27;Albarossa&#x27;, &#x27;Aleatico&#x27;, &#x27;Alfrocheiro&#x27;,\n",
       "       &#x27;Alicante&#x27;, &#x27;Alicante Bouschet&#x27;, &#x27;Aligot...\n",
       "       &#x27;Wagram-Donauland&#x27;, &#x27;Waiheke Island&#x27;, &#x27;Waipara&#x27;, &#x27;Waipara Valley&#x27;,\n",
       "       &#x27;Wairarapa&#x27;, &#x27;Wairau Valley&#x27;, &#x27;Walker Bay&#x27;, &#x27;Washington&#x27;,\n",
       "       &#x27;Washington-Oregon&#x27;, &#x27;Weinland Österreich&#x27;, &#x27;Weinviertel&#x27;,\n",
       "       &#x27;Wellington&#x27;, &#x27;Western Australia&#x27;, &#x27;Western Cape&#x27;,\n",
       "       &#x27;Wiener Gemischter Satz&#x27;, &#x27;Württemberg&#x27;, &#x27;Zenata&#x27;,\n",
       "       &#x27;Österreichischer Perlwein&#x27;, &#x27;Österreichischer Sekt&#x27;, &#x27;Štajerska&#x27;,\n",
       "       &#x27;Župa&#x27;], dtype=object)]),\n",
       "                                 [&#x27;winery&#x27;, &#x27;variety&#x27;, &#x27;country&#x27;, &#x27;province&#x27;])])</pre></div></div></div><div class=\"sk-parallel\"><div class=\"sk-parallel-item\"><div class=\"sk-item\"><div class=\"sk-label-container\"><div class=\"sk-label sk-toggleable\"><input class=\"sk-toggleable__control sk-hidden--visually\" id=\"sk-estimator-id-4\" type=\"checkbox\" ><label for=\"sk-estimator-id-4\" class=\"sk-toggleable__label sk-toggleable__label-arrow\">onehotencoder</label><div class=\"sk-toggleable__content\"><pre>[&#x27;winery&#x27;, &#x27;variety&#x27;, &#x27;country&#x27;, &#x27;province&#x27;]</pre></div></div></div><div class=\"sk-serial\"><div class=\"sk-item\"><div class=\"sk-estimator sk-toggleable\"><input class=\"sk-toggleable__control sk-hidden--visually\" id=\"sk-estimator-id-5\" type=\"checkbox\" ><label for=\"sk-estimator-id-5\" class=\"sk-toggleable__label sk-toggleable__label-arrow\">OneHotEncoder</label><div class=\"sk-toggleable__content\"><pre>OneHotEncoder(categories=[array([&#x27;1+1=3&#x27;, &#x27;10 Knots&#x27;, &#x27;10Span&#x27;, ..., &#x27;Ökonomierat Rebholz&#x27;,\n",
       "       &#x27;àMaurice&#x27;, &#x27;Štoka&#x27;], dtype=object),\n",
       "                          array([&#x27;Abouriou&#x27;, &#x27;Agiorgitiko&#x27;, &#x27;Aglianico&#x27;, &#x27;Airen&#x27;, &#x27;Albana&#x27;,\n",
       "       &#x27;Albanello&#x27;, &#x27;Albariño&#x27;, &#x27;Albarossa&#x27;, &#x27;Aleatico&#x27;, &#x27;Alfrocheiro&#x27;,\n",
       "       &#x27;Alicante&#x27;, &#x27;Alicante Bouschet&#x27;, &#x27;Aligoté&#x27;, &#x27;Alsace white blend&#x27;,\n",
       "       &#x27;Altesse&#x27;, &#x27;Alvarelhão&#x27;, &#x27;Alvarinho&#x27;, &#x27;Alvarinho-Chard...\n",
       "       &#x27;Vipavska Dolina&#x27;, &#x27;Virginia&#x27;, &#x27;Vlootenburg&#x27;, &#x27;Wachau&#x27;, &#x27;Wagram&#x27;,\n",
       "       &#x27;Wagram-Donauland&#x27;, &#x27;Waiheke Island&#x27;, &#x27;Waipara&#x27;, &#x27;Waipara Valley&#x27;,\n",
       "       &#x27;Wairarapa&#x27;, &#x27;Wairau Valley&#x27;, &#x27;Walker Bay&#x27;, &#x27;Washington&#x27;,\n",
       "       &#x27;Washington-Oregon&#x27;, &#x27;Weinland Österreich&#x27;, &#x27;Weinviertel&#x27;,\n",
       "       &#x27;Wellington&#x27;, &#x27;Western Australia&#x27;, &#x27;Western Cape&#x27;,\n",
       "       &#x27;Wiener Gemischter Satz&#x27;, &#x27;Württemberg&#x27;, &#x27;Zenata&#x27;,\n",
       "       &#x27;Österreichischer Perlwein&#x27;, &#x27;Österreichischer Sekt&#x27;, &#x27;Štajerska&#x27;,\n",
       "       &#x27;Župa&#x27;], dtype=object)])</pre></div></div></div></div></div></div><div class=\"sk-parallel-item\"><div class=\"sk-item\"><div class=\"sk-label-container\"><div class=\"sk-label sk-toggleable\"><input class=\"sk-toggleable__control sk-hidden--visually\" id=\"sk-estimator-id-6\" type=\"checkbox\" ><label for=\"sk-estimator-id-6\" class=\"sk-toggleable__label sk-toggleable__label-arrow\">remainder</label><div class=\"sk-toggleable__content\"><pre>[&#x27;points&#x27;]</pre></div></div></div><div class=\"sk-serial\"><div class=\"sk-item\"><div class=\"sk-estimator sk-toggleable\"><input class=\"sk-toggleable__control sk-hidden--visually\" id=\"sk-estimator-id-7\" type=\"checkbox\" ><label for=\"sk-estimator-id-7\" class=\"sk-toggleable__label sk-toggleable__label-arrow\">passthrough</label><div class=\"sk-toggleable__content\"><pre>passthrough</pre></div></div></div></div></div></div></div></div><div class=\"sk-item\"><div class=\"sk-estimator sk-toggleable\"><input class=\"sk-toggleable__control sk-hidden--visually\" id=\"sk-estimator-id-8\" type=\"checkbox\" ><label for=\"sk-estimator-id-8\" class=\"sk-toggleable__label sk-toggleable__label-arrow\">LinearRegression</label><div class=\"sk-toggleable__content\"><pre>LinearRegression()</pre></div></div></div></div></div></div></div>"
      ],
      "text/plain": [
       "Pipeline(steps=[('columntransformer',\n",
       "                 ColumnTransformer(remainder='passthrough',\n",
       "                                   transformers=[('onehotencoder',\n",
       "                                                  OneHotEncoder(categories=[array(['1+1=3', '10 Knots', '10Span', ..., 'Ökonomierat Rebholz',\n",
       "       'àMaurice', 'Štoka'], dtype=object),\n",
       "                                                                            array(['Abouriou', 'Agiorgitiko', 'Aglianico', 'Airen', 'Albana',\n",
       "       'Albanello', 'Albariño', 'Albarossa', 'Aleatico', 'Alfrocheiro',...\n",
       "       'Wairarapa', 'Wairau Valley', 'Walker Bay', 'Washington',\n",
       "       'Washington-Oregon', 'Weinland Österreich', 'Weinviertel',\n",
       "       'Wellington', 'Western Australia', 'Western Cape',\n",
       "       'Wiener Gemischter Satz', 'Württemberg', 'Zenata',\n",
       "       'Österreichischer Perlwein', 'Österreichischer Sekt', 'Štajerska',\n",
       "       'Župa'], dtype=object)]),\n",
       "                                                  ['winery', 'variety',\n",
       "                                                   'country', 'province'])])),\n",
       "                ('linearregression', LinearRegression())])"
      ]
     },
     "execution_count": 37,
     "metadata": {},
     "output_type": "execute_result"
    }
   ],
   "source": [
    "pipe.fit(X_train,y_train)"
   ]
  },
  {
   "cell_type": "code",
   "execution_count": 38,
   "id": "3267018d",
   "metadata": {},
   "outputs": [],
   "source": [
    "y_pred=pipe.predict(X_test)"
   ]
  },
  {
   "cell_type": "code",
   "execution_count": 39,
   "id": "19e14867",
   "metadata": {},
   "outputs": [
    {
     "data": {
      "text/plain": [
       "array([ 9.32149015, 70.04541477, 56.82658728, ..., 51.28920275,\n",
       "       11.02087936, 36.99411984])"
      ]
     },
     "execution_count": 39,
     "metadata": {},
     "output_type": "execute_result"
    }
   ],
   "source": [
    "y_pred"
   ]
  },
  {
   "cell_type": "code",
   "execution_count": 40,
   "id": "9dbefc14",
   "metadata": {},
   "outputs": [
    {
     "data": {
      "text/plain": [
       "0.4189068591728231"
      ]
     },
     "execution_count": 40,
     "metadata": {},
     "output_type": "execute_result"
    }
   ],
   "source": [
    "r2_score(y_test,y_pred)"
   ]
  },
  {
   "cell_type": "code",
   "execution_count": 41,
   "id": "b839a2b9",
   "metadata": {},
   "outputs": [
    {
     "data": {
      "text/plain": [
       "array([45.42578784])"
      ]
     },
     "execution_count": 41,
     "metadata": {},
     "output_type": "execute_result"
    }
   ],
   "source": [
    "pipe.predict(pd.DataFrame(columns=X_test.columns,data=np.array(['Ken Brown','Pinot Noir','US','California',89]).reshape(1,5)))"
   ]
  },
  {
   "cell_type": "code",
   "execution_count": 42,
   "id": "c678ff23",
   "metadata": {},
   "outputs": [
    {
     "data": {
      "text/plain": [
       "array(['1+1=3', '10 Knots', '10Span', ..., 'Ökonomierat Rebholz',\n",
       "       'àMaurice', 'Štoka'], dtype=object)"
      ]
     },
     "execution_count": 42,
     "metadata": {},
     "output_type": "execute_result"
    }
   ],
   "source": [
    "pipe.steps[0][1].transformers[0][1].categories[0]"
   ]
  },
  {
   "cell_type": "code",
   "execution_count": 43,
   "id": "62bd9c14",
   "metadata": {},
   "outputs": [],
   "source": [
    "import pickle"
   ]
  },
  {
   "cell_type": "code",
   "execution_count": 44,
   "id": "d187e315",
   "metadata": {},
   "outputs": [],
   "source": [
    "pickle.dump(pipe,open('Wine_Price_Ml.pkl','wb'))"
   ]
  },
  {
   "cell_type": "code",
   "execution_count": null,
   "id": "67b8949c",
   "metadata": {},
   "outputs": [],
   "source": []
  }
 ],
 "metadata": {
  "kernelspec": {
   "display_name": "Python 3 (ipykernel)",
   "language": "python",
   "name": "python3"
  },
  "language_info": {
   "codemirror_mode": {
    "name": "ipython",
    "version": 3
   },
   "file_extension": ".py",
   "mimetype": "text/x-python",
   "name": "python",
   "nbconvert_exporter": "python",
   "pygments_lexer": "ipython3",
   "version": "3.10.8"
  }
 },
 "nbformat": 4,
 "nbformat_minor": 5
}
